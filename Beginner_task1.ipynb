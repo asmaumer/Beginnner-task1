{
  "nbformat": 4,
  "nbformat_minor": 0,
  "metadata": {
    "colab": {
      "name": "Beginner task1.ipynb",
      "provenance": [],
      "collapsed_sections": [],
      "authorship_tag": "ABX9TyO7LVFWd5s3Mdz+vtO1yoe2",
      "include_colab_link": true
    },
    "kernelspec": {
      "name": "python3",
      "display_name": "Python 3"
    },
    "language_info": {
      "name": "python"
    }
  },
  "cells": [
    {
      "cell_type": "markdown",
      "metadata": {
        "id": "view-in-github",
        "colab_type": "text"
      },
      "source": [
        "<a href=\"https://colab.research.google.com/github/asmaumer/simple-linear-regression/blob/main/Beginner_task1.ipynb\" target=\"_parent\"><img src=\"https://colab.research.google.com/assets/colab-badge.svg\" alt=\"Open In Colab\"/></a>"
      ]
    },
    {
      "cell_type": "markdown",
      "metadata": {
        "id": "2_Ex8us7TnQY"
      },
      "source": [
        "###**Task:** **To find out the score of a student based on the study hours.**"
      ]
    },
    {
      "cell_type": "code",
      "metadata": {
        "id": "Zhc3VGSUTjki"
      },
      "source": [
        "import pandas as pd  \n",
        "import numpy as np  \n",
        "import matplotlib.pyplot as plt  \n",
        "from sklearn.model_selection import train_test_split\n",
        "from sklearn.linear_model import LinearRegression  \n",
        "from sklearn import metrics \n",
        "%matplotlib inline"
      ],
      "execution_count": 8,
      "outputs": []
    },
    {
      "cell_type": "code",
      "metadata": {
        "colab": {
          "base_uri": "https://localhost:8080/",
          "height": 220
        },
        "id": "GamfsahheSY-",
        "outputId": "fb1fea99-015e-41fb-981f-47c06715beb6"
      },
      "source": [
        "#reading csv file\n",
        "\n",
        "url ='http://bit.ly/w-data'\n",
        "df = pd.read_csv(url)\n",
        "print(\"Data imported successfully.\")\n",
        "df.head()"
      ],
      "execution_count": 9,
      "outputs": [
        {
          "output_type": "stream",
          "name": "stdout",
          "text": [
            "Data imported successfully.\n"
          ]
        },
        {
          "output_type": "execute_result",
          "data": {
            "text/html": [
              "<div>\n",
              "<style scoped>\n",
              "    .dataframe tbody tr th:only-of-type {\n",
              "        vertical-align: middle;\n",
              "    }\n",
              "\n",
              "    .dataframe tbody tr th {\n",
              "        vertical-align: top;\n",
              "    }\n",
              "\n",
              "    .dataframe thead th {\n",
              "        text-align: right;\n",
              "    }\n",
              "</style>\n",
              "<table border=\"1\" class=\"dataframe\">\n",
              "  <thead>\n",
              "    <tr style=\"text-align: right;\">\n",
              "      <th></th>\n",
              "      <th>Hours</th>\n",
              "      <th>Scores</th>\n",
              "    </tr>\n",
              "  </thead>\n",
              "  <tbody>\n",
              "    <tr>\n",
              "      <th>0</th>\n",
              "      <td>2.5</td>\n",
              "      <td>21</td>\n",
              "    </tr>\n",
              "    <tr>\n",
              "      <th>1</th>\n",
              "      <td>5.1</td>\n",
              "      <td>47</td>\n",
              "    </tr>\n",
              "    <tr>\n",
              "      <th>2</th>\n",
              "      <td>3.2</td>\n",
              "      <td>27</td>\n",
              "    </tr>\n",
              "    <tr>\n",
              "      <th>3</th>\n",
              "      <td>8.5</td>\n",
              "      <td>75</td>\n",
              "    </tr>\n",
              "    <tr>\n",
              "      <th>4</th>\n",
              "      <td>3.5</td>\n",
              "      <td>30</td>\n",
              "    </tr>\n",
              "  </tbody>\n",
              "</table>\n",
              "</div>"
            ],
            "text/plain": [
              "   Hours  Scores\n",
              "0    2.5      21\n",
              "1    5.1      47\n",
              "2    3.2      27\n",
              "3    8.5      75\n",
              "4    3.5      30"
            ]
          },
          "metadata": {},
          "execution_count": 9
        }
      ]
    },
    {
      "cell_type": "markdown",
      "metadata": {
        "id": "RRlvfdIsVG7a"
      },
      "source": [
        "Now, Plotting a graph to see how the 'Hours' and 'Scores' are correlated to each other."
      ]
    },
    {
      "cell_type": "code",
      "metadata": {
        "colab": {
          "base_uri": "https://localhost:8080/",
          "height": 295
        },
        "id": "p-V-drOPLRjm",
        "outputId": "0ac41d75-f293-4e35-8855-41ec1fd98afd"
      },
      "source": [
        "#Scatter plot of distribution\n",
        "\n",
        "plt.scatter(df.Hours, df.Scores, color='red', marker='*')\n",
        "plt.xlabel('Hours Studies')\n",
        "plt.ylabel('Percentage Secured')\n",
        "plt.title('Hours vs Percentage')\n",
        "plt.grid(linestyle='--')\n",
        "plt.show()"
      ],
      "execution_count": 19,
      "outputs": [
        {
          "output_type": "display_data",
          "data": {
            "image/png": "[encoded data removed]",
            "text/plain": [
              "<Figure size 432x288 with 1 Axes>"
            ]
          },
          "metadata": {
            "needs_background": "light"
          }
        }
      ]
    },
    {
      "cell_type": "markdown",
      "metadata": {
        "id": "bxnRf32KVmly"
      },
      "source": [
        "We can see that there is a **positive linear relation** between the number of hours studied and percentage of score."
      ]
    },
    {
      "cell_type": "markdown",
      "metadata": {
        "id": "UAjS_gNEWdDl"
      },
      "source": [
        "### **Preparing the data:**\n",
        "Now, we divide the data into \"features\" (inputs) and \"labels\" (outputs)."
      ]
    },
    {
      "cell_type": "code",
      "metadata": {
        "id": "qfHIxWyPpGSN"
      },
      "source": [
        "#diviving into attributes and labels\n",
        "\n",
        "X = df.iloc[:, :-1].values  \n",
        "y = df.iloc[:, 1].values "
      ],
      "execution_count": 12,
      "outputs": []
    },
    {
      "cell_type": "markdown",
      "metadata": {
        "id": "ip6kmf8sX1SV"
      },
      "source": [
        "Next, we split this data into training and testing sets via Scikit-Learn's built-in train_test_split() method."
      ]
    },
    {
      "cell_type": "code",
      "metadata": {
        "id": "RFrg4p_1aqsu"
      },
      "source": [
        "#dividing into training and testing\n",
        "\n",
        "X_train, X_test, y_train, y_test = train_test_split(X, y, test_size=0.2, random_state=0) "
      ],
      "execution_count": 13,
      "outputs": []
    },
    {
      "cell_type": "markdown",
      "metadata": {
        "id": "i69FKLiFavvU"
      },
      "source": [
        "###**Training the Algorithm:**\n",
        "After splitting the data we train the Algorithm."
      ]
    },
    {
      "cell_type": "code",
      "metadata": {
        "colab": {
          "base_uri": "https://localhost:8080/"
        },
        "id": "JBrBkWUhpisk",
        "outputId": "1656ebe6-8ba1-4443-f77d-ce306ae90dd7"
      },
      "source": [
        "#Training the model\n",
        "\n",
        "reg = LinearRegression()\n",
        "reg.fit(X_train, y_train)\n",
        "print(\"Training complete.\")"
      ],
      "execution_count": 16,
      "outputs": [
        {
          "output_type": "stream",
          "name": "stdout",
          "text": [
            "Training complete.\n"
          ]
        }
      ]
    },
    {
      "cell_type": "markdown",
      "metadata": {
        "id": "tuZvbwfcbPng"
      },
      "source": [
        "####**Plotting the Regression Line:**"
      ]
    },
    {
      "cell_type": "code",
      "metadata": {
        "colab": {
          "base_uri": "https://localhost:8080/",
          "height": 296
        },
        "id": "6ia8Q4fRqmmx",
        "outputId": "3e7e5ba9-f357-477b-8714-2b3457aab5e7"
      },
      "source": [
        "# Plotting data\n",
        "plt.scatter(X,y, color='red', marker='*')\n",
        "\n",
        "# Plotting the regression line\n",
        "line = reg.coef_*df.Hours + reg.intercept_\n",
        "plt.plot(X, line)\n",
        "\n",
        "plt.xlabel('Hours Studies')\n",
        "plt.ylabel('Percentage Secured')\n",
        "plt.title('Hours vs Percentage', fontsize=14)\n",
        "plt.grid(linestyle='--')"
      ],
      "execution_count": 20,
      "outputs": [
        {
          "output_type": "display_data",
          "data": {
            "image/png": "[encoded data removed]",
            "text/plain": [
              "<Figure size 432x288 with 1 Axes>"
            ]
          },
          "metadata": {
            "needs_background": "light"
          }
        }
      ]
    },
    {
      "cell_type": "markdown",
      "metadata": {
        "id": "IDRgFX4Jc-pI"
      },
      "source": [
        "###**Making Predictions:**\n",
        "Since we have trained our algorithm, we can make predictions."
      ]
    },
    {
      "cell_type": "code",
      "metadata": {
        "colab": {
          "base_uri": "https://localhost:8080/"
        },
        "id": "rJrqTs_rqmpZ",
        "outputId": "1fc11bf3-4f2c-4937-822e-dabeb1baa21f"
      },
      "source": [
        "#Predicting values for y via x test values\n",
        "\n",
        "y_pred = reg.predict(X_test)\n",
        "y_pred"
      ],
      "execution_count": null,
      "outputs": [
        {
          "output_type": "execute_result",
          "data": {
            "text/plain": [
              "array([16.88414476, 33.73226078, 75.357018  , 26.79480124, 60.49103328])"
            ]
          },
          "metadata": {},
          "execution_count": 81
        }
      ]
    },
    {
      "cell_type": "code",
      "metadata": {
        "colab": {
          "base_uri": "https://localhost:8080/",
          "height": 203
        },
        "id": "O8GrGEbCqmtA",
        "outputId": "c42940c9-1eed-4e8e-b790-78762a75f13e"
      },
      "source": [
        "#Comparing the values of y predicted vs y actual\n",
        "\n",
        "df = pd.DataFrame({'Y actual ': y_test, 'Y predicted': y_pred}) \n",
        "df"
      ],
      "execution_count": null,
      "outputs": [
        {
          "output_type": "execute_result",
          "data": {
            "text/html": [
              "<div>\n",
              "<style scoped>\n",
              "    .dataframe tbody tr th:only-of-type {\n",
              "        vertical-align: middle;\n",
              "    }\n",
              "\n",
              "    .dataframe tbody tr th {\n",
              "        vertical-align: top;\n",
              "    }\n",
              "\n",
              "    .dataframe thead th {\n",
              "        text-align: right;\n",
              "    }\n",
              "</style>\n",
              "<table border=\"1\" class=\"dataframe\">\n",
              "  <thead>\n",
              "    <tr style=\"text-align: right;\">\n",
              "      <th></th>\n",
              "      <th>Y actual</th>\n",
              "      <th>Y predicted</th>\n",
              "    </tr>\n",
              "  </thead>\n",
              "  <tbody>\n",
              "    <tr>\n",
              "      <th>0</th>\n",
              "      <td>20</td>\n",
              "      <td>16.884145</td>\n",
              "    </tr>\n",
              "    <tr>\n",
              "      <th>1</th>\n",
              "      <td>27</td>\n",
              "      <td>33.732261</td>\n",
              "    </tr>\n",
              "    <tr>\n",
              "      <th>2</th>\n",
              "      <td>69</td>\n",
              "      <td>75.357018</td>\n",
              "    </tr>\n",
              "    <tr>\n",
              "      <th>3</th>\n",
              "      <td>30</td>\n",
              "      <td>26.794801</td>\n",
              "    </tr>\n",
              "    <tr>\n",
              "      <th>4</th>\n",
              "      <td>62</td>\n",
              "      <td>60.491033</td>\n",
              "    </tr>\n",
              "  </tbody>\n",
              "</table>\n",
              "</div>"
            ],
            "text/plain": [
              "   Y actual   Y predicted\n",
              "0         20    16.884145\n",
              "1         27    33.732261\n",
              "2         69    75.357018\n",
              "3         30    26.794801\n",
              "4         62    60.491033"
            ]
          },
          "metadata": {},
          "execution_count": 80
        }
      ]
    },
    {
      "cell_type": "markdown",
      "metadata": {
        "id": "oZn-R_UfdVUa"
      },
      "source": [
        "###**Required prediction:**"
      ]
    },
    {
      "cell_type": "code",
      "metadata": {
        "colab": {
          "base_uri": "https://localhost:8080/"
        },
        "id": "dm26HQzhvoSx",
        "outputId": "de1612ee-d188-477d-f282-46184d57200e"
      },
      "source": [
        "#testing with our data\n",
        "\n",
        "hours= 9.25\n",
        "pred = reg.predict([[hours]])\n",
        "\n",
        "print(\"No of Hours = {}\".format(hours))\n",
        "print(\"Predicted Score = {}\".format(pred[0]))"
      ],
      "execution_count": null,
      "outputs": [
        {
          "output_type": "stream",
          "name": "stdout",
          "text": [
            "No of Hours = 9.25\n",
            "Predicted Score = 93.69173248737539\n"
          ]
        }
      ]
    },
    {
      "cell_type": "markdown",
      "metadata": {
        "id": "FtU-DoCQdh7A"
      },
      "source": [
        "###**Evaluting Model:**\n",
        "Finally, to evaluate the performance of our algorithm, we can choose any metrics from the 3 main metrics for model evaluation in regression. (i.e. R Square or Adjusted R Square, Mean Square Error (MSE) or Root Mean quare Error (RMSE), Mean Absolute Error (MAE) ) \n",
        "- We have chosen Mean Absolute Error."
      ]
    },
    {
      "cell_type": "code",
      "metadata": {
        "colab": {
          "base_uri": "https://localhost:8080/"
        },
        "id": "97Ar2vbevokO",
        "outputId": "8eac9f8b-e850-4a35-9ff8-1e75d66b15a3"
      },
      "source": [
        "\n",
        "print('Mean Absolute Error:', metrics.mean_absolute_error(y_test, y_pred)) "
      ],
      "execution_count": null,
      "outputs": [
        {
          "output_type": "stream",
          "name": "stdout",
          "text": [
            "Mean Absolute Error: 4.183859899002982\n"
          ]
        }
      ]
    }
  ]
}